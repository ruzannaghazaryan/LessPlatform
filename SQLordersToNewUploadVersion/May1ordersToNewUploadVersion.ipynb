{
 "cells": [
  {
   "cell_type": "code",
   "execution_count": 1,
   "metadata": {},
   "outputs": [],
   "source": [
    "import numpy as np\n",
    "import pandas as pd\n",
    "import mysql.connector\n",
    "from datetime import timedelta, datetime"
   ]
  },
  {
   "cell_type": "code",
   "execution_count": 2,
   "metadata": {},
   "outputs": [],
   "source": [
    "pd.set_option('display.max_columns', None)"
   ]
  },
  {
   "cell_type": "code",
   "execution_count": 3,
   "metadata": {},
   "outputs": [],
   "source": [
    "mydb  = mysql.connector.connect(\n",
    "                                host = '',\n",
    "                                user = '',\n",
    "                                password = '',\n",
    "                                database = ''\n",
    "                                )\n",
    "mycursor = mydb.cursor()"
   ]
  },
  {
   "cell_type": "code",
   "execution_count": 4,
   "metadata": {},
   "outputs": [],
   "source": [
    "query = [\"\"\"\n",
    "            SELECT * \n",
    "            FROM `orders`\n",
    "            WHERE deliverydateFrom >= '2020-05-01 13:31:00'\n",
    "                  AND \n",
    "                  deliverydateTo <= '2020-05-01 20:59:00'\n",
    "         \"\"\",\n",
    "            \"SHOW COLUMNS FROM `orders`\"\n",
    "        ]"
   ]
  },
  {
   "cell_type": "code",
   "execution_count": 5,
   "metadata": {},
   "outputs": [],
   "source": [
    "result = []\n",
    "for i in range(len(query)):\n",
    "    try:\n",
    "        mycursor.execute(query[i])\n",
    "        output = mycursor.fetchall()\n",
    "        result.append(output)\n",
    "    except:\n",
    "        print('Execution Failed ' + str(i))  "
   ]
  },
  {
   "cell_type": "code",
   "execution_count": 6,
   "metadata": {},
   "outputs": [
    {
     "data": {
      "text/plain": [
       "245"
      ]
     },
     "execution_count": 6,
     "metadata": {},
     "output_type": "execute_result"
    }
   ],
   "source": [
    "orders = result[0]\n",
    "len(orders)"
   ]
  },
  {
   "cell_type": "code",
   "execution_count": 1,
   "metadata": {},
   "outputs": [
    {
     "ename": "NameError",
     "evalue": "name 'result' is not defined",
     "output_type": "error",
     "traceback": [
      "\u001b[1;31m---------------------------------------------------------------------------\u001b[0m",
      "\u001b[1;31mNameError\u001b[0m                                 Traceback (most recent call last)",
      "\u001b[1;32m~\\AppData\\Local\\Temp\\ipykernel_13132\\3172400704.py\u001b[0m in \u001b[0;36m<module>\u001b[1;34m\u001b[0m\n\u001b[1;32m----> 1\u001b[1;33m \u001b[0mcols\u001b[0m \u001b[1;33m=\u001b[0m \u001b[0mresult\u001b[0m\u001b[1;33m[\u001b[0m\u001b[1;36m1\u001b[0m\u001b[1;33m]\u001b[0m\u001b[1;33m\u001b[0m\u001b[1;33m\u001b[0m\u001b[0m\n\u001b[0m\u001b[0;32m      2\u001b[0m \u001b[1;31m# cols\u001b[0m\u001b[1;33m\u001b[0m\u001b[1;33m\u001b[0m\u001b[1;33m\u001b[0m\u001b[0m\n",
      "\u001b[1;31mNameError\u001b[0m: name 'result' is not defined"
     ]
    }
   ],
   "source": [
    "cols = result[1]\n",
    "# cols"
   ]
  },
  {
   "cell_type": "code",
   "execution_count": 8,
   "metadata": {},
   "outputs": [],
   "source": [
    "data = pd.DataFrame(data = orders, index = range(len(orders)), columns = [i[0] for i in cols])"
   ]
  },
  {
   "cell_type": "code",
   "execution_count": 9,
   "metadata": {},
   "outputs": [
    {
     "data": {
      "text/html": [
       "<div>\n",
       "<style scoped>\n",
       "    .dataframe tbody tr th:only-of-type {\n",
       "        vertical-align: middle;\n",
       "    }\n",
       "\n",
       "    .dataframe tbody tr th {\n",
       "        vertical-align: top;\n",
       "    }\n",
       "\n",
       "    .dataframe thead th {\n",
       "        text-align: right;\n",
       "    }\n",
       "</style>\n",
       "<table border=\"1\" class=\"dataframe\">\n",
       "  <thead>\n",
       "    <tr style=\"text-align: right;\">\n",
       "      <th></th>\n",
       "      <th>id</th>\n",
       "      <th>bol</th>\n",
       "      <th>pro</th>\n",
       "      <th>po</th>\n",
       "      <th>orderNumber</th>\n",
       "      <th>load_id</th>\n",
       "      <th>customerid</th>\n",
       "      <th>consigneeid</th>\n",
       "      <th>vendorid</th>\n",
       "      <th>carrierid</th>\n",
       "      <th>companyId</th>\n",
       "      <th>depoid</th>\n",
       "      <th>pickupDepoId</th>\n",
       "      <th>deliveryDepoId</th>\n",
       "      <th>loadnumber</th>\n",
       "      <th>eqType</th>\n",
       "      <th>flowType</th>\n",
       "      <th>orderType</th>\n",
       "      <th>isPlanned</th>\n",
       "      <th>isFreezed</th>\n",
       "      <th>status</th>\n",
       "      <th>statusInternal</th>\n",
       "      <th>pickupdate</th>\n",
       "      <th>deliverydate</th>\n",
       "      <th>delivery</th>\n",
       "      <th>deliveryLocationtypeid</th>\n",
       "      <th>pickup</th>\n",
       "      <th>pickupLocationtypeid</th>\n",
       "      <th>loadtype</th>\n",
       "      <th>pallet</th>\n",
       "      <th>cube</th>\n",
       "      <th>feet</th>\n",
       "      <th>weight</th>\n",
       "      <th>rate</th>\n",
       "      <th>flatRate</th>\n",
       "      <th>permileRate</th>\n",
       "      <th>fuelRate</th>\n",
       "      <th>otherRate</th>\n",
       "      <th>currency</th>\n",
       "      <th>pickupdateFrom</th>\n",
       "      <th>pickupdateTo</th>\n",
       "      <th>deliverydateFrom</th>\n",
       "      <th>deliverydateTo</th>\n",
       "      <th>dispatchDate</th>\n",
       "      <th>deliveryCompanyName</th>\n",
       "      <th>deliveryStreetAddress</th>\n",
       "      <th>deliveryCity</th>\n",
       "      <th>deliveryState</th>\n",
       "      <th>deliveryZip</th>\n",
       "      <th>deliveryLat</th>\n",
       "      <th>deliveryLon</th>\n",
       "      <th>deliveryCountry</th>\n",
       "      <th>deliveryCountryCode</th>\n",
       "      <th>deliveryAccessorials</th>\n",
       "      <th>productDescription</th>\n",
       "      <th>pickupCompanyName</th>\n",
       "      <th>pickupStreetAddress</th>\n",
       "      <th>pickupCity</th>\n",
       "      <th>pickupState</th>\n",
       "      <th>pickupZip</th>\n",
       "      <th>pickupLat</th>\n",
       "      <th>pickupLon</th>\n",
       "      <th>pickupCountry</th>\n",
       "      <th>pickupCountryCode</th>\n",
       "      <th>pickupAccessorials</th>\n",
       "      <th>eta</th>\n",
       "      <th>leaveTime</th>\n",
       "      <th>ata</th>\n",
       "      <th>servicetime</th>\n",
       "      <th>notes</th>\n",
       "      <th>specialneeds</th>\n",
       "      <th>fuelSurcharges</th>\n",
       "      <th>rateType</th>\n",
       "      <th>custDistance</th>\n",
       "      <th>custDuration</th>\n",
       "      <th>bh</th>\n",
       "      <th>createdAt</th>\n",
       "      <th>updatedAt</th>\n",
       "      <th>confirmed</th>\n",
       "      <th>orderTypes</th>\n",
       "      <th>timeInfo</th>\n",
       "      <th>pieceCount</th>\n",
       "      <th>pieceTime</th>\n",
       "      <th>disabled</th>\n",
       "      <th>loadTempIds</th>\n",
       "      <th>loadIds</th>\n",
       "      <th>flowTypes</th>\n",
       "      <th>timeWindows</th>\n",
       "      <th>mustbefirst</th>\n",
       "      <th>crossDock</th>\n",
       "      <th>serviceType</th>\n",
       "      <th>proof</th>\n",
       "      <th>proofSettings</th>\n",
       "    </tr>\n",
       "  </thead>\n",
       "  <tbody>\n",
       "    <tr>\n",
       "      <th>0</th>\n",
       "      <td>31037</td>\n",
       "      <td>None</td>\n",
       "      <td>None</td>\n",
       "      <td>409600</td>\n",
       "      <td>None</td>\n",
       "      <td>0</td>\n",
       "      <td>0</td>\n",
       "      <td>3007</td>\n",
       "      <td>0</td>\n",
       "      <td>0</td>\n",
       "      <td>None</td>\n",
       "      <td>14</td>\n",
       "      <td>None</td>\n",
       "      <td>None</td>\n",
       "      <td>None</td>\n",
       "      <td>4</td>\n",
       "      <td>2</td>\n",
       "      <td>1</td>\n",
       "      <td>0</td>\n",
       "      <td>None</td>\n",
       "      <td>0</td>\n",
       "      <td>1</td>\n",
       "      <td>None</td>\n",
       "      <td>None</td>\n",
       "      <td>6470 NEWTOWN 1 DODGINGTOWN ROAD CT, United States</td>\n",
       "      <td>None</td>\n",
       "      <td>undefined, United States</td>\n",
       "      <td>None</td>\n",
       "      <td>0</td>\n",
       "      <td>None</td>\n",
       "      <td>1.0</td>\n",
       "      <td>1.0</td>\n",
       "      <td>1.0</td>\n",
       "      <td>None</td>\n",
       "      <td>None</td>\n",
       "      <td>None</td>\n",
       "      <td>None</td>\n",
       "      <td>None</td>\n",
       "      <td>None</td>\n",
       "      <td>2020-05-01 05:00:00</td>\n",
       "      <td>2020-05-02 04:59:00</td>\n",
       "      <td>2020-05-01 14:30:00</td>\n",
       "      <td>2020-05-01 19:00:00</td>\n",
       "      <td>None</td>\n",
       "      <td>TAMBASCIO'S ITALIAN GRILL</td>\n",
       "      <td>1 DODGINGTOWN ROAD</td>\n",
       "      <td>NEWTOWN</td>\n",
       "      <td>CT</td>\n",
       "      <td>6470</td>\n",
       "      <td>41.3753357</td>\n",
       "      <td>-73.3462538</td>\n",
       "      <td>United States</td>\n",
       "      <td>us</td>\n",
       "      <td>None</td>\n",
       "      <td>None</td>\n",
       "      <td>City Line</td>\n",
       "      <td>20 Industry Dr</td>\n",
       "      <td>West Haven</td>\n",
       "      <td>CT</td>\n",
       "      <td>06516</td>\n",
       "      <td>41.2893231</td>\n",
       "      <td>-72.9816723</td>\n",
       "      <td>United States</td>\n",
       "      <td>us</td>\n",
       "      <td>None</td>\n",
       "      <td>None</td>\n",
       "      <td>None</td>\n",
       "      <td>None</td>\n",
       "      <td>1200.0</td>\n",
       "      <td>None</td>\n",
       "      <td>None</td>\n",
       "      <td>0</td>\n",
       "      <td>flat</td>\n",
       "      <td>44639.5</td>\n",
       "      <td>2707.7</td>\n",
       "      <td>None</td>\n",
       "      <td>2021-05-20 13:26:19</td>\n",
       "      <td>2021-05-31 13:06:54</td>\n",
       "      <td>0</td>\n",
       "      <td>None</td>\n",
       "      <td>{\"loads\": {}, \"loadsArr\": [], \"loadTemps\": {}}</td>\n",
       "      <td>26.0</td>\n",
       "      <td>30.0</td>\n",
       "      <td>None</td>\n",
       "      <td>[]</td>\n",
       "      <td>[]</td>\n",
       "      <td>[]</td>\n",
       "      <td>{\"pickupTimeWindows\": [{\"To\": \"2020-05-02T04:5...</td>\n",
       "      <td>0</td>\n",
       "      <td>0</td>\n",
       "      <td>None</td>\n",
       "      <td>None</td>\n",
       "      <td>None</td>\n",
       "    </tr>\n",
       "  </tbody>\n",
       "</table>\n",
       "</div>"
      ],
      "text/plain": [
       "      id   bol   pro      po orderNumber  load_id  customerid  consigneeid  \\\n",
       "0  31037  None  None  409600        None        0           0         3007   \n",
       "\n",
       "   vendorid  carrierid companyId  depoid pickupDepoId deliveryDepoId  \\\n",
       "0         0          0      None      14         None           None   \n",
       "\n",
       "  loadnumber  eqType  flowType  orderType  isPlanned isFreezed  status  \\\n",
       "0       None       4         2          1          0      None       0   \n",
       "\n",
       "   statusInternal pickupdate deliverydate  \\\n",
       "0               1       None         None   \n",
       "\n",
       "                                            delivery deliveryLocationtypeid  \\\n",
       "0  6470 NEWTOWN 1 DODGINGTOWN ROAD CT, United States                   None   \n",
       "\n",
       "                     pickup pickupLocationtypeid loadtype pallet  cube  feet  \\\n",
       "0  undefined, United States                 None        0   None   1.0   1.0   \n",
       "\n",
       "   weight  rate flatRate permileRate fuelRate otherRate currency  \\\n",
       "0     1.0  None     None        None     None      None     None   \n",
       "\n",
       "       pickupdateFrom        pickupdateTo    deliverydateFrom  \\\n",
       "0 2020-05-01 05:00:00 2020-05-02 04:59:00 2020-05-01 14:30:00   \n",
       "\n",
       "       deliverydateTo dispatchDate        deliveryCompanyName  \\\n",
       "0 2020-05-01 19:00:00         None  TAMBASCIO'S ITALIAN GRILL   \n",
       "\n",
       "  deliveryStreetAddress deliveryCity deliveryState deliveryZip deliveryLat  \\\n",
       "0    1 DODGINGTOWN ROAD      NEWTOWN            CT        6470  41.3753357   \n",
       "\n",
       "   deliveryLon deliveryCountry deliveryCountryCode deliveryAccessorials  \\\n",
       "0  -73.3462538   United States                  us                 None   \n",
       "\n",
       "  productDescription pickupCompanyName pickupStreetAddress  pickupCity  \\\n",
       "0               None         City Line      20 Industry Dr  West Haven   \n",
       "\n",
       "  pickupState pickupZip   pickupLat    pickupLon  pickupCountry  \\\n",
       "0          CT     06516  41.2893231  -72.9816723  United States   \n",
       "\n",
       "  pickupCountryCode pickupAccessorials   eta leaveTime   ata  servicetime  \\\n",
       "0                us               None  None      None  None       1200.0   \n",
       "\n",
       "  notes specialneeds  fuelSurcharges rateType  custDistance  custDuration  \\\n",
       "0  None         None               0     flat       44639.5        2707.7   \n",
       "\n",
       "     bh           createdAt           updatedAt  confirmed orderTypes  \\\n",
       "0  None 2021-05-20 13:26:19 2021-05-31 13:06:54          0       None   \n",
       "\n",
       "                                         timeInfo  pieceCount  pieceTime  \\\n",
       "0  {\"loads\": {}, \"loadsArr\": [], \"loadTemps\": {}}        26.0       30.0   \n",
       "\n",
       "  disabled loadTempIds loadIds flowTypes  \\\n",
       "0     None          []      []        []   \n",
       "\n",
       "                                         timeWindows  mustbefirst  crossDock  \\\n",
       "0  {\"pickupTimeWindows\": [{\"To\": \"2020-05-02T04:5...            0          0   \n",
       "\n",
       "  serviceType proof proofSettings  \n",
       "0        None  None          None  "
      ]
     },
     "execution_count": 9,
     "metadata": {},
     "output_type": "execute_result"
    }
   ],
   "source": [
    "data.head(1)"
   ]
  },
  {
   "cell_type": "code",
   "execution_count": 10,
   "metadata": {},
   "outputs": [],
   "source": [
    "df = pd.DataFrame(index = range(len(orders)), columns = ['Order Number', 'Customer name', 'Customer Address', 'City', 'State', 'Zip Code', 'Delivery Window Start', 'Delivery Window End', 'Delivery Date', 'Pick up Window Start', 'Pick up Window End', 'Pick Date', 'Quantity', 'Weight', 'Size', 'Volume', 'Depot Name', 'Type', 'Delivery Period'])"
   ]
  },
  {
   "cell_type": "code",
   "execution_count": 3,
   "metadata": {},
   "outputs": [],
   "source": [
    "# df.head()"
   ]
  },
  {
   "cell_type": "code",
   "execution_count": 12,
   "metadata": {},
   "outputs": [],
   "source": [
    "df['Order Number'] = data['pro']\n",
    "df['Customer name'] = data['deliveryCompanyName']\n",
    "df['Customer Address'] = data['deliveryStreetAddress']\n",
    "df['City'] = data['deliveryCity']\n",
    "df['State'] = data['deliveryState']\n",
    "df['Zip Code'] = data['deliveryZip']\n",
    "df['Quantity'] = data['pieceCount']\n",
    "df['Weight'] = data['weight']\n",
    "df['Volume'] = data['cube']\n",
    "df['Depot Name'] = 'City Line'\n",
    "df['Type'] = 'delivery'"
   ]
  },
  {
   "cell_type": "code",
   "execution_count": 13,
   "metadata": {},
   "outputs": [
    {
     "name": "stderr",
     "output_type": "stream",
     "text": [
      "C:\\Users\\Dell\\Anaconda3\\lib\\site-packages\\ipykernel_launcher.py:2: SettingWithCopyWarning: \n",
      "A value is trying to be set on a copy of a slice from a DataFrame\n",
      "\n",
      "See the caveats in the documentation: http://pandas.pydata.org/pandas-docs/stable/indexing.html#indexing-view-versus-copy\n",
      "  \n",
      "C:\\Users\\Dell\\Anaconda3\\lib\\site-packages\\ipykernel_launcher.py:3: SettingWithCopyWarning: \n",
      "A value is trying to be set on a copy of a slice from a DataFrame\n",
      "\n",
      "See the caveats in the documentation: http://pandas.pydata.org/pandas-docs/stable/indexing.html#indexing-view-versus-copy\n",
      "  This is separate from the ipykernel package so we can avoid doing imports until\n",
      "C:\\Users\\Dell\\Anaconda3\\lib\\site-packages\\ipykernel_launcher.py:4: SettingWithCopyWarning: \n",
      "A value is trying to be set on a copy of a slice from a DataFrame\n",
      "\n",
      "See the caveats in the documentation: http://pandas.pydata.org/pandas-docs/stable/indexing.html#indexing-view-versus-copy\n",
      "  after removing the cwd from sys.path.\n",
      "C:\\Users\\Dell\\Anaconda3\\lib\\site-packages\\ipykernel_launcher.py:5: SettingWithCopyWarning: \n",
      "A value is trying to be set on a copy of a slice from a DataFrame\n",
      "\n",
      "See the caveats in the documentation: http://pandas.pydata.org/pandas-docs/stable/indexing.html#indexing-view-versus-copy\n",
      "  \"\"\"\n",
      "C:\\Users\\Dell\\Anaconda3\\lib\\site-packages\\ipykernel_launcher.py:6: SettingWithCopyWarning: \n",
      "A value is trying to be set on a copy of a slice from a DataFrame\n",
      "\n",
      "See the caveats in the documentation: http://pandas.pydata.org/pandas-docs/stable/indexing.html#indexing-view-versus-copy\n",
      "  \n"
     ]
    }
   ],
   "source": [
    "for i in range(len(data)):\n",
    "    df['Delivery Window Start'][i] = (data['deliverydateFrom'][i] + timedelta(hours = -4)).time().strftime('%H:%M')\n",
    "    df['Delivery Window End'][i] = (data['deliverydateTo'][i] + timedelta(hours = -4)).time().strftime('%H:%M')\n",
    "    df['Delivery Date'][i] = df['Pick Date'][i] = (data['deliverydateFrom'][i] + timedelta(hours = -4)).date()\n",
    "    df['Pick up Window Start'][i] = '00:00'\n",
    "    df['Pick up Window End'][i] = '23:59'\n",
    "    "
   ]
  },
  {
   "cell_type": "code",
   "execution_count": 2,
   "metadata": {},
   "outputs": [],
   "source": [
    "# df"
   ]
  },
  {
   "cell_type": "code",
   "execution_count": 15,
   "metadata": {},
   "outputs": [
    {
     "data": {
      "text/plain": [
       "array([datetime.date(2020, 5, 1)], dtype=object)"
      ]
     },
     "execution_count": 15,
     "metadata": {},
     "output_type": "execute_result"
    }
   ],
   "source": [
    "df['Delivery Date'].unique()"
   ]
  },
  {
   "cell_type": "code",
   "execution_count": 16,
   "metadata": {},
   "outputs": [],
   "source": [
    "df.to_excel('C:\\\\Users\\\\Dell\\\\Desktop\\\\Work\\\\cityLine\\\\May1ordersToNewUploadVersion.xlsx')"
   ]
  },
  {
   "cell_type": "code",
   "execution_count": null,
   "metadata": {},
   "outputs": [],
   "source": []
  }
 ],
 "metadata": {
  "kernelspec": {
   "display_name": "Python 3 (ipykernel)",
   "language": "python",
   "name": "python3"
  },
  "language_info": {
   "codemirror_mode": {
    "name": "ipython",
    "version": 3
   },
   "file_extension": ".py",
   "mimetype": "text/x-python",
   "name": "python",
   "nbconvert_exporter": "python",
   "pygments_lexer": "ipython3",
   "version": "3.7.11"
  }
 },
 "nbformat": 4,
 "nbformat_minor": 2
}
