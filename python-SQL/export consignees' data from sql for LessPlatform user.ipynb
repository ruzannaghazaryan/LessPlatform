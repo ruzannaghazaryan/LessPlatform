{
 "cells": [
  {
   "cell_type": "code",
   "execution_count": 1,
   "metadata": {},
   "outputs": [],
   "source": [
    "import numpy as np\n",
    "import pandas as pd\n",
    "import mysql.connector\n",
    "import json\n",
    "from datetime import datetime, timedelta, date"
   ]
  },
  {
   "cell_type": "markdown",
   "metadata": {},
   "source": [
    "### Getting data From SQL table"
   ]
  },
  {
   "cell_type": "code",
   "execution_count": 2,
   "metadata": {},
   "outputs": [
    {
     "name": "stdout",
     "output_type": "stream",
     "text": [
      "legacyFood\n"
     ]
    }
   ],
   "source": [
    "db = input()"
   ]
  },
  {
   "cell_type": "code",
   "execution_count": 3,
   "metadata": {},
   "outputs": [],
   "source": [
    "mydb = mysql.connector.connect(\n",
    "                                user = '',\n",
    "                                host = '',\n",
    "                                password = '',\n",
    "                                database = db\n",
    "                               )"
   ]
  },
  {
   "cell_type": "code",
   "execution_count": 4,
   "metadata": {},
   "outputs": [],
   "source": [
    "mycursor = mydb.cursor()"
   ]
  },
  {
   "cell_type": "code",
   "execution_count": 5,
   "metadata": {},
   "outputs": [],
   "source": [
    "table = 'consignees'"
   ]
  },
  {
   "cell_type": "code",
   "execution_count": 6,
   "metadata": {},
   "outputs": [],
   "source": [
    "query = ['SELECT * FROM ' + table,\n",
    "         'SHOW COLUMNS FROM ' + table]"
   ]
  },
  {
   "cell_type": "code",
   "execution_count": 7,
   "metadata": {},
   "outputs": [],
   "source": [
    "result = list()\n",
    "for i in range(len(query)):    \n",
    "    try:\n",
    "        mycursor.execute(query[i])\n",
    "        result.append(mycursor.fetchall())\n",
    "    except:\n",
    "        print(\"Execute Failed in \" + query[i])"
   ]
  },
  {
   "cell_type": "code",
   "execution_count": 8,
   "metadata": {},
   "outputs": [],
   "source": [
    "data = pd.DataFrame(result[0], columns = [i[0] for i in result[1]], index = range(len(result[0])))"
   ]
  },
  {
   "cell_type": "code",
   "execution_count": 9,
   "metadata": {},
   "outputs": [
    {
     "data": {
      "text/plain": [
       "(array([0.]), array([None], dtype=object))"
      ]
     },
     "execution_count": 9,
     "metadata": {},
     "output_type": "execute_result"
    }
   ],
   "source": [
    "data['serviceTime'].unique(), data['proofSettings'].unique()"
   ]
  },
  {
   "cell_type": "markdown",
   "metadata": {},
   "source": [
    "<span style='color: darkblue'> We've dropped the columns 'serviceTime' and 'proofSettings' as they were empty.\\\n",
    "Check their unique values. If they're not null, then <span style='color: red'> DO NOT </span> drop them. </span>"
   ]
  },
  {
   "cell_type": "code",
   "execution_count": 10,
   "metadata": {},
   "outputs": [],
   "source": [
    "data = data.drop(['address', 'address2', 'serviceTime', 'proofSettings', 'createdAt', 'updatedAt'], axis = 1)"
   ]
  },
  {
   "cell_type": "code",
   "execution_count": 11,
   "metadata": {},
   "outputs": [
    {
     "name": "stderr",
     "output_type": "stream",
     "text": [
      "C:\\Users\\Dell\\Anaconda3\\lib\\site-packages\\ipykernel_launcher.py:3: SettingWithCopyWarning: \n",
      "A value is trying to be set on a copy of a slice from a DataFrame\n",
      "\n",
      "See the caveats in the documentation: http://pandas.pydata.org/pandas-docs/stable/indexing.html#indexing-view-versus-copy\n",
      "  This is separate from the ipykernel package so we can avoid doing imports until\n"
     ]
    }
   ],
   "source": [
    "data['consigneesCount'] = 0\n",
    "for i in range(len(data)):\n",
    "    data['consigneesCount'][i] = len(json.loads(data['points'][i]))"
   ]
  },
  {
   "cell_type": "code",
   "execution_count": 12,
   "metadata": {},
   "outputs": [
    {
     "data": {
      "text/plain": [
       "array([ 1,  2,  3,  6,  5,  4, 13, 12, 32, 17, 11], dtype=int64)"
      ]
     },
     "execution_count": 12,
     "metadata": {},
     "output_type": "execute_result"
    }
   ],
   "source": [
    "data['consigneesCount'].unique()"
   ]
  },
  {
   "cell_type": "markdown",
   "metadata": {},
   "source": [
    "### Data processing of Consignees with 1 address"
   ]
  },
  {
   "cell_type": "code",
   "execution_count": 13,
   "metadata": {},
   "outputs": [],
   "source": [
    "data1 = data[data['consigneesCount'] == 1]\n",
    "data1.index = range(len(data1))"
   ]
  },
  {
   "cell_type": "code",
   "execution_count": 14,
   "metadata": {},
   "outputs": [
    {
     "data": {
      "text/plain": [
       "((2817, 15), (3000, 15))"
      ]
     },
     "execution_count": 14,
     "metadata": {},
     "output_type": "execute_result"
    }
   ],
   "source": [
    "data1.shape, data.shape"
   ]
  },
  {
   "cell_type": "code",
   "execution_count": 15,
   "metadata": {},
   "outputs": [],
   "source": [
    "indexCount = 0\n",
    "for i in range(len(data)):\n",
    "    indexCount += len(json.loads(data['points'][i]))"
   ]
  },
  {
   "cell_type": "code",
   "execution_count": 16,
   "metadata": {},
   "outputs": [
    {
     "data": {
      "text/plain": [
       "3397"
      ]
     },
     "execution_count": 16,
     "metadata": {},
     "output_type": "execute_result"
    }
   ],
   "source": [
    "indexCount"
   ]
  },
  {
   "cell_type": "code",
   "execution_count": 17,
   "metadata": {},
   "outputs": [],
   "source": [
    "df = pd.DataFrame(index = range(indexCount), columns = data.columns)"
   ]
  },
  {
   "cell_type": "code",
   "execution_count": 18,
   "metadata": {},
   "outputs": [],
   "source": [
    "df = df.rename(columns = {\n",
    "                        'depo_id': 'depot',\n",
    "                        'czone_id': 'zone',\n",
    "                        'driverId': 'driver'\n",
    "                         }\n",
    "              )"
   ]
  },
  {
   "cell_type": "code",
   "execution_count": 19,
   "metadata": {},
   "outputs": [],
   "source": [
    "df = df.drop(['points', 'consigneesCount'], axis = 1)"
   ]
  },
  {
   "cell_type": "code",
   "execution_count": 20,
   "metadata": {},
   "outputs": [],
   "source": [
    "df[\"lat\"] = ''\n",
    "df[\"lon\"] = ''\n",
    "df[\"zip\"] = ''\n",
    "df[\"city\"] = ''\n",
    "df[\"state\"] = ''\n",
    "df[\"country\"] = ''\n",
    "df[\"streetAddress\"] = ''"
   ]
  },
  {
   "cell_type": "code",
   "execution_count": 21,
   "metadata": {},
   "outputs": [],
   "source": [
    "for i in range(len(data1)):\n",
    "    df['id'][i] = data1['id'][i]\n",
    "    df['name'][i] = data1['name'][i]\n",
    "    df['companyLegalName'][i] = data1['companyLegalName'][i]\n",
    "    df['email'][i] = data1['email'][i]\n",
    "    df['phone1'][i] = data1['phone1'][i]\n",
    "    df['phone2'][i] = data1['phone2'][i]\n",
    "    df['contactPerson'][i] = data1['contactPerson'][i]\n",
    "    df['rating'][i] = data1['rating'][i]\n",
    "    df['notes'][i] = data1['notes'][i]\n",
    "    df['mustbefirst'][i] = data1['mustbefirst'][i]\n",
    "    df['driver'][i] = data1['driverId'][i]\n",
    "    df['zone'][i] = data1['czone_id'][i]\n",
    "    df['depot'][i] = data1['depo_id'][i]"
   ]
  },
  {
   "cell_type": "code",
   "execution_count": 22,
   "metadata": {},
   "outputs": [],
   "source": [
    "pd.set_option('display.max_columns', None)"
   ]
  },
  {
   "cell_type": "code",
   "execution_count": 23,
   "metadata": {},
   "outputs": [],
   "source": [
    "days = list(json.loads(data['points'][0])[0].keys())"
   ]
  },
  {
   "cell_type": "code",
   "execution_count": 24,
   "metadata": {},
   "outputs": [],
   "source": [
    "days.remove('address')"
   ]
  },
  {
   "cell_type": "code",
   "execution_count": 25,
   "metadata": {},
   "outputs": [
    {
     "name": "stdout",
     "output_type": "stream",
     "text": [
      "['Friday', 'Monday', 'Sunday', 'Tuesday', 'Saturday', 'Thursday', 'Wednesday']\n",
      "7\n"
     ]
    }
   ],
   "source": [
    "print(days)\n",
    "print(len(days))"
   ]
  },
  {
   "cell_type": "code",
   "execution_count": 26,
   "metadata": {},
   "outputs": [],
   "source": [
    "for i in days:\n",
    "    df[i + 'WorkingHoursFrom'] = ''\n",
    "    df[i + 'WorkingHoursTo'] = ''\n",
    "    df[i + 'DeliveryHoursFrom'] = ''\n",
    "    df[i + 'DeliveryHoursTo'] = ''"
   ]
  },
  {
   "cell_type": "code",
   "execution_count": 27,
   "metadata": {},
   "outputs": [],
   "source": [
    "#getting data which is filled in SQL json \n",
    "for i in range(len(data1)):\n",
    "    for j in days:\n",
    "        if 'workingHours' in json.loads(data1['points'][i])[0][j]:\n",
    "            df[j + 'WorkingHoursFrom'][i] = json.loads(data1['points'][i])[0][j]['workingHours']['from']\n",
    "            df[j + 'WorkingHoursTo'][i] = json.loads(data1['points'][i])[0][j]['workingHours']['to']\n",
    "        else:\n",
    "            df[j + 'WorkingHoursFrom'][i] = ''\n",
    "            df[j + 'WorkingHoursTo'][i] = ''\n",
    "        if 'deliveryHours' in json.loads(data1['points'][i])[0][j]:\n",
    "            df[j + 'DeliveryHoursFrom'][i] = json.loads(data1['points'][i])[0][j]['deliveryHours']['from']\n",
    "            df[j + 'DeliveryHoursTo'][i] = json.loads(data1['points'][i])[0][j]['deliveryHours']['to']    \n",
    "        else:\n",
    "            df[j + 'DeliveryHoursFrom'][i] = ''\n",
    "            df[j + 'DeliveryHoursTo'][i] = ''"
   ]
  },
  {
   "cell_type": "code",
   "execution_count": 28,
   "metadata": {},
   "outputs": [],
   "source": [
    "for i in days:\n",
    "    df[i + 'WorkingHoursFromAnotherDatetimeFormat'] = ''\n",
    "    df[i + 'WorkingHoursToAnotherDatetimeFormat'] = ''\n",
    "    df[i + 'DeliveryHoursFromAnotherDatetimeFormat'] = ''\n",
    "    df[i + 'DeliveryHoursToAnotherDatetimeFormat'] = ''"
   ]
  },
  {
   "cell_type": "code",
   "execution_count": 29,
   "metadata": {},
   "outputs": [],
   "source": [
    "from PIL import Image"
   ]
  },
  {
   "cell_type": "code",
   "execution_count": 30,
   "metadata": {},
   "outputs": [
    {
     "data": {
      "image/png": "[encoded data removed]",
      "text/plain": [
       "<PIL.PngImagePlugin.PngImageFile image mode=RGBA size=1005x463 at 0x222882C7D68>"
      ]
     },
     "execution_count": 30,
     "metadata": {},
     "output_type": "execute_result"
    }
   ],
   "source": [
    "Image.open('C:\\\\Users\\\\Dell\\\\Desktop\\\\Work\\\\daylightSaving.png')\n"
   ]
  },
  {
   "cell_type": "code",
   "execution_count": 31,
   "metadata": {},
   "outputs": [],
   "source": [
    "clockBackStart = date(2020, 11, 1)\n",
    "clockBackEnd = date(2021, 3, 13)\n",
    "clockForwardEnd = date(2021, 11, 7)"
   ]
  },
  {
   "cell_type": "code",
   "execution_count": 32,
   "metadata": {},
   "outputs": [],
   "source": [
    "hours = ['WorkingHoursFrom', 'WorkingHoursTo', 'DeliveryHoursFrom', 'DeliveryHoursTo']"
   ]
  },
  {
   "cell_type": "code",
   "execution_count": 33,
   "metadata": {},
   "outputs": [],
   "source": [
    "for i in range(len(data1)):\n",
    "    for j in days:\n",
    "        for k in hours:\n",
    "            if df[j + k][i] != '':\n",
    "                try:\n",
    "                    if (clockBackStart <= datetime.strptime(df[j + k][i], \"%Y-%m-%dT%H:%M:%S.%fZ\").date() <= clockBackEnd):\n",
    "                        df[j + k][i] = (datetime.strptime(df[j + k][i], \"%Y-%m-%dT%H:%M:%S.%fZ\") + timedelta(hours = -5)).time().strftime('%H:%M')\n",
    "                    elif (clockBackEnd < datetime.strptime(df[j + k][i], \"%Y-%m-%dT%H:%M:%S.%fZ\").date() < clockForwardEnd):\n",
    "                        df[j + k][i] = (datetime.strptime(df[j + k][i], \"%Y-%m-%dT%H:%M:%S.%fZ\") + timedelta(hours = -4)).time().strftime('%H:%M')\n",
    "                    else:\n",
    "                        df[j + k + 'AnotherDatetimeFormat'][i] = 'anotherDaylightSavingTimePeriod'\n",
    "                except:\n",
    "                    df[j + k + 'AnotherDatetimeFormat'][i] = 'another datetime format'"
   ]
  },
  {
   "cell_type": "code",
   "execution_count": 34,
   "metadata": {},
   "outputs": [],
   "source": [
    "addressParts = [\"streetAddress\", \"lat\", \"lon\", \"zip\", \"city\", \"state\", \"country\"]"
   ]
  },
  {
   "cell_type": "code",
   "execution_count": 35,
   "metadata": {},
   "outputs": [],
   "source": [
    "for i in range(len(data1)):\n",
    "    for k in addressParts:\n",
    "        if k in json.loads(data1['points'][i])[0]['address']:\n",
    "            df[k][i] = json.loads(data1['points'][i])[0]['address'][k]\n",
    "        else:\n",
    "            df[k][i] = ''"
   ]
  },
  {
   "cell_type": "markdown",
   "metadata": {},
   "source": [
    "### Consignees with 2 or more addresses"
   ]
  },
  {
   "cell_type": "code",
   "execution_count": 36,
   "metadata": {},
   "outputs": [],
   "source": [
    "data2 = data[data['consigneesCount'] > 1]\n",
    "data2.index = range(len(data2))"
   ]
  },
  {
   "cell_type": "code",
   "execution_count": 37,
   "metadata": {},
   "outputs": [
    {
     "data": {
      "text/plain": [
       "((3397, 76), (2817, 15), (183, 15))"
      ]
     },
     "execution_count": 37,
     "metadata": {},
     "output_type": "execute_result"
    }
   ],
   "source": [
    "df.shape, data1.shape, data2.shape"
   ]
  },
  {
   "cell_type": "code",
   "execution_count": 38,
   "metadata": {},
   "outputs": [
    {
     "data": {
      "text/plain": [
       "3000"
      ]
     },
     "execution_count": 38,
     "metadata": {},
     "output_type": "execute_result"
    }
   ],
   "source": [
    "data1.shape[0] + data2.shape[0]"
   ]
  },
  {
   "cell_type": "code",
   "execution_count": 39,
   "metadata": {},
   "outputs": [],
   "source": [
    "ind = data1.shape[0]\n",
    "for i in range(len(data2)):\n",
    "    addressCount = len(json.loads(data2['points'][i]))\n",
    "    indices = list(range(ind, ind + addressCount))\n",
    "    for l in range(addressCount):\n",
    "        df['id'][indices[l]] = data2['id'][i]\n",
    "        df['name'][indices[l]] = data2['name'][i]\n",
    "        df['companyLegalName'][indices[l]] = data2['companyLegalName'][i]\n",
    "        df['email'][indices[l]] = data2['email'][i]\n",
    "        df['phone1'][indices[l]] = data2['phone1'][i]\n",
    "        df['phone2'][indices[l]] = data2['phone2'][i]\n",
    "        df['contactPerson'][indices[l]] = data2['contactPerson'][i]\n",
    "        df['rating'][indices[l]] = data2['rating'][i]\n",
    "        df['notes'][indices[l]] = data2['notes'][i]\n",
    "        df['mustbefirst'][indices[l]] = data2['mustbefirst'][i]\n",
    "        df['driver'][indices[l]] = data2['driverId'][i]\n",
    "        df['zone'][indices[l]] = data2['czone_id'][i]\n",
    "        df['depot'][indices[l]] = data2['depo_id'][i]\n",
    "    ind += addressCount"
   ]
  },
  {
   "cell_type": "code",
   "execution_count": 40,
   "metadata": {},
   "outputs": [],
   "source": [
    "ind = data1.shape[0]\n",
    "for i in range(len(data2)):\n",
    "    addressCount = len(json.loads(data2['points'][i]))\n",
    "    indices = list(range(ind, ind + addressCount))\n",
    "    for l in range(addressCount):\n",
    "        for j in days:\n",
    "            if j in json.loads(data2['points'][i])[l]:\n",
    "                if 'workingHours' in json.loads(data2['points'][i])[l][j]:\n",
    "                    df[j + 'WorkingHoursFrom'][indices[l]] = json.loads(data2['points'][i])[l][j]['workingHours']['from']\n",
    "                    df[j + 'WorkingHoursTo'][indices[l]] = json.loads(data2['points'][i])[l][j]['workingHours']['to']\n",
    "                else:\n",
    "                    df[j + 'WorkingHoursFrom'][indices[l]] = ''\n",
    "                    df[j + 'WorkingHoursTo'][indices[l]] = ''\n",
    "                if 'deliveryHours' in json.loads(data2['points'][i])[l][j]:\n",
    "                    df[j + 'DeliveryHoursFrom'][indices[l]] = json.loads(data2['points'][i])[l][j]['deliveryHours']['from']\n",
    "                    df[j + 'DeliveryHoursTo'][indices[l]] = json.loads(data2['points'][i])[l][j]['deliveryHours']['to']    \n",
    "                else:\n",
    "                    df[j + 'DeliveryHoursFrom'][indices[l]] = ''\n",
    "                    df[j + 'DeliveryHoursTo'][indices[l]] = '' \n",
    "    ind += addressCount"
   ]
  },
  {
   "cell_type": "code",
   "execution_count": 41,
   "metadata": {},
   "outputs": [
    {
     "data": {
      "text/plain": [
       "['streetAddress', 'lat', 'lon', 'zip', 'city', 'state', 'country']"
      ]
     },
     "execution_count": 41,
     "metadata": {},
     "output_type": "execute_result"
    }
   ],
   "source": [
    "addressParts"
   ]
  },
  {
   "cell_type": "code",
   "execution_count": 42,
   "metadata": {},
   "outputs": [],
   "source": [
    "ind = data1.shape[0]\n",
    "for i in range(len(data2)):\n",
    "    addressCount = len(json.loads(data2['points'][i]))\n",
    "    indices = list(range(ind, ind + addressCount))\n",
    "    for l in range(addressCount):\n",
    "        if 'address' in json.loads(data2['points'][i])[l]:\n",
    "            for k in addressParts:\n",
    "                if k in json.loads(data2['points'][i])[l]['address']:\n",
    "                    df[k][indices[l]] = json.loads(data2['points'][i])[l]['address'][k]\n",
    "    ind += addressCount"
   ]
  },
  {
   "cell_type": "code",
   "execution_count": 43,
   "metadata": {},
   "outputs": [],
   "source": [
    "for i in range(data1.shape[0], df.shape[0]):\n",
    "    for j in days:\n",
    "        for k in hours:\n",
    "            if df[j + k][i] != '':\n",
    "                try:\n",
    "                    if (clockBackStart <= datetime.strptime(df[j + k][i], \"%Y-%m-%dT%H:%M:%S.%fZ\").date() <= clockBackEnd):\n",
    "                        df[j + k][i] = (datetime.strptime(df[j + k][i], \"%Y-%m-%dT%H:%M:%S.%fZ\") + timedelta(hours = -5)).time().strftime('%H:%M')\n",
    "                    elif (clockBackEnd < datetime.strptime(df[j + k][i], \"%Y-%m-%dT%H:%M:%S.%fZ\").date() < clockForwardEnd):\n",
    "                        df[j + k][i] = (datetime.strptime(df[j + k][i], \"%Y-%m-%dT%H:%M:%S.%fZ\") + timedelta(hours = -4)).time().strftime('%H:%M')\n",
    "                    else:\n",
    "                        df[j + k + 'AnotherDatetimeFormat'][i] = 'anotherDaylightSavingTimePeriod'\n",
    "                except:\n",
    "                    df[j + k + 'AnotherDatetimeFormat'][i] = 'another datetime format'"
   ]
  },
  {
   "cell_type": "markdown",
   "metadata": {},
   "source": [
    "### Here comes the part of 'another datetime formats' and 'anotherDaylightSavingTimePeriod'"
   ]
  },
  {
   "cell_type": "code",
   "execution_count": 44,
   "metadata": {},
   "outputs": [
    {
     "data": {
      "text/plain": [
       "['Friday', 'Monday', 'Sunday', 'Tuesday', 'Saturday', 'Thursday', 'Wednesday']"
      ]
     },
     "execution_count": 44,
     "metadata": {},
     "output_type": "execute_result"
    }
   ],
   "source": [
    "days"
   ]
  },
  {
   "cell_type": "code",
   "execution_count": 45,
   "metadata": {},
   "outputs": [
    {
     "data": {
      "text/plain": [
       "['WorkingHoursFrom', 'WorkingHoursTo', 'DeliveryHoursFrom', 'DeliveryHoursTo']"
      ]
     },
     "execution_count": 45,
     "metadata": {},
     "output_type": "execute_result"
    }
   ],
   "source": [
    "hours"
   ]
  },
  {
   "cell_type": "code",
   "execution_count": 46,
   "metadata": {},
   "outputs": [],
   "source": [
    "for i in days:\n",
    "    for m in hours:\n",
    "        if (('another datetime format' not in df[i + m + 'AnotherDatetimeFormat'].unique()) and ('anotherDaylightSavingTimePeriod' not in df[i + m + 'AnotherDatetimeFormat'].unique())):\n",
    "            df = df.drop([i + m + 'AnotherDatetimeFormat'], axis = 1)"
   ]
  },
  {
   "cell_type": "code",
   "execution_count": 47,
   "metadata": {},
   "outputs": [
    {
     "data": {
      "text/plain": [
       "Index(['id', 'name', 'companyLegalName', 'email', 'phone1', 'phone2',\n",
       "       'contactPerson', 'rating', 'notes', 'mustbefirst', 'driver', 'zone',\n",
       "       'depot', 'lat', 'lon', 'zip', 'city', 'state', 'country',\n",
       "       'streetAddress', 'FridayWorkingHoursFrom', 'FridayWorkingHoursTo',\n",
       "       'FridayDeliveryHoursFrom', 'FridayDeliveryHoursTo',\n",
       "       'MondayWorkingHoursFrom', 'MondayWorkingHoursTo',\n",
       "       'MondayDeliveryHoursFrom', 'MondayDeliveryHoursTo',\n",
       "       'SundayWorkingHoursFrom', 'SundayWorkingHoursTo',\n",
       "       'SundayDeliveryHoursFrom', 'SundayDeliveryHoursTo',\n",
       "       'TuesdayWorkingHoursFrom', 'TuesdayWorkingHoursTo',\n",
       "       'TuesdayDeliveryHoursFrom', 'TuesdayDeliveryHoursTo',\n",
       "       'SaturdayWorkingHoursFrom', 'SaturdayWorkingHoursTo',\n",
       "       'SaturdayDeliveryHoursFrom', 'SaturdayDeliveryHoursTo',\n",
       "       'ThursdayWorkingHoursFrom', 'ThursdayWorkingHoursTo',\n",
       "       'ThursdayDeliveryHoursFrom', 'ThursdayDeliveryHoursTo',\n",
       "       'WednesdayWorkingHoursFrom', 'WednesdayWorkingHoursTo',\n",
       "       'WednesdayDeliveryHoursFrom', 'WednesdayDeliveryHoursTo',\n",
       "       'FridayWorkingHoursFromAnotherDatetimeFormat',\n",
       "       'FridayWorkingHoursToAnotherDatetimeFormat',\n",
       "       'FridayDeliveryHoursFromAnotherDatetimeFormat',\n",
       "       'FridayDeliveryHoursToAnotherDatetimeFormat',\n",
       "       'MondayWorkingHoursFromAnotherDatetimeFormat',\n",
       "       'MondayWorkingHoursToAnotherDatetimeFormat',\n",
       "       'MondayDeliveryHoursFromAnotherDatetimeFormat',\n",
       "       'MondayDeliveryHoursToAnotherDatetimeFormat',\n",
       "       'SundayWorkingHoursFromAnotherDatetimeFormat',\n",
       "       'SundayWorkingHoursToAnotherDatetimeFormat',\n",
       "       'SundayDeliveryHoursFromAnotherDatetimeFormat',\n",
       "       'SundayDeliveryHoursToAnotherDatetimeFormat',\n",
       "       'TuesdayWorkingHoursFromAnotherDatetimeFormat',\n",
       "       'TuesdayWorkingHoursToAnotherDatetimeFormat',\n",
       "       'TuesdayDeliveryHoursFromAnotherDatetimeFormat',\n",
       "       'TuesdayDeliveryHoursToAnotherDatetimeFormat',\n",
       "       'SaturdayWorkingHoursFromAnotherDatetimeFormat',\n",
       "       'SaturdayWorkingHoursToAnotherDatetimeFormat',\n",
       "       'SaturdayDeliveryHoursFromAnotherDatetimeFormat',\n",
       "       'SaturdayDeliveryHoursToAnotherDatetimeFormat',\n",
       "       'ThursdayWorkingHoursFromAnotherDatetimeFormat',\n",
       "       'ThursdayWorkingHoursToAnotherDatetimeFormat',\n",
       "       'ThursdayDeliveryHoursFromAnotherDatetimeFormat',\n",
       "       'ThursdayDeliveryHoursToAnotherDatetimeFormat',\n",
       "       'WednesdayWorkingHoursFromAnotherDatetimeFormat',\n",
       "       'WednesdayWorkingHoursToAnotherDatetimeFormat',\n",
       "       'WednesdayDeliveryHoursFromAnotherDatetimeFormat',\n",
       "       'WednesdayDeliveryHoursToAnotherDatetimeFormat'],\n",
       "      dtype='object')"
      ]
     },
     "execution_count": 47,
     "metadata": {},
     "output_type": "execute_result"
    }
   ],
   "source": [
    "df.columns"
   ]
  },
  {
   "cell_type": "code",
   "execution_count": 50,
   "metadata": {},
   "outputs": [],
   "source": [
    "for i in days:\n",
    "    for m in hours:\n",
    "        if ('anotherDaylightSavingTimePeriod' in df[i + m + 'AnotherDatetimeFormat'].unique()):\n",
    "            print(i + m + 'AnotherDatetimeFormat')"
   ]
  },
  {
   "cell_type": "code",
   "execution_count": 51,
   "metadata": {},
   "outputs": [],
   "source": [
    "for i in days:\n",
    "    for m in hours:\n",
    "        if (i + m + 'AnotherDatetimeFormat') in df.columns:\n",
    "            indicesOfAnotherDatetimeFormat = df[df[i + m + 'AnotherDatetimeFormat'] == 'another datetime format'].index\n",
    "            for l in indicesOfAnotherDatetimeFormat:\n",
    "                try:\n",
    "                    if (clockBackStart <= datetime.strptime(df.iloc[l][i + m], \"%Y-%m-%dT%H:%M:%SZ\").date() <= clockBackEnd):\n",
    "                        df.iloc[l][i + m] = (datetime.strptime(df.iloc[l][i + m], \"%Y-%m-%dT%H:%M:%SZ\") + timedelta(hours = -5)).time().strftime('%H:%M')\n",
    "                        df.iloc[l][i + m + 'AnotherDatetimeFormat'] = ''\n",
    "                    if (clockBackEnd < datetime.strptime(df.iloc[l][i + m], \"%Y-%m-%dT%H:%M:%SZ\").date() < clockForwardEnd):\n",
    "                        df.iloc[l][i + m] = (datetime.strptime(df.iloc[l][i + m], \"%Y-%m-%dT%H:%M:%SZ\") + timedelta(hours = -4)).time().strftime('%H:%M')\n",
    "                        df.iloc[l][i + m + 'AnotherDatetimeFormat'] = ''\n",
    "                    else:\n",
    "                        df.iloc[l][i + m + 'AnotherDatetimeFormat'] = 'anotherDaylightSavingTimePeriod'\n",
    "                except:\n",
    "                    df.iloc[l][i + m + 'AnotherDatetimeFormat'] = 'another datetime format'\n",
    "                    \n",
    "                "
   ]
  },
  {
   "cell_type": "code",
   "execution_count": 52,
   "metadata": {},
   "outputs": [],
   "source": [
    "for i in days:\n",
    "    for m in hours:\n",
    "        if (i + m + 'AnotherDatetimeFormat') in df.columns:\n",
    "            if (('another datetime format' not in df[i + m + 'AnotherDatetimeFormat'].unique()) and ('anotherDaylightSavingTimePeriod' not in df[i + m + 'AnotherDatetimeFormat'].unique())):\n",
    "                df = df.drop([i + m + 'AnotherDatetimeFormat'], axis = 1)"
   ]
  },
  {
   "cell_type": "code",
   "execution_count": 53,
   "metadata": {},
   "outputs": [
    {
     "data": {
      "text/plain": [
       "Index(['id', 'name', 'companyLegalName', 'email', 'phone1', 'phone2',\n",
       "       'contactPerson', 'rating', 'notes', 'mustbefirst', 'driver', 'zone',\n",
       "       'depot', 'lat', 'lon', 'zip', 'city', 'state', 'country',\n",
       "       'streetAddress', 'FridayWorkingHoursFrom', 'FridayWorkingHoursTo',\n",
       "       'FridayDeliveryHoursFrom', 'FridayDeliveryHoursTo',\n",
       "       'MondayWorkingHoursFrom', 'MondayWorkingHoursTo',\n",
       "       'MondayDeliveryHoursFrom', 'MondayDeliveryHoursTo',\n",
       "       'SundayWorkingHoursFrom', 'SundayWorkingHoursTo',\n",
       "       'SundayDeliveryHoursFrom', 'SundayDeliveryHoursTo',\n",
       "       'TuesdayWorkingHoursFrom', 'TuesdayWorkingHoursTo',\n",
       "       'TuesdayDeliveryHoursFrom', 'TuesdayDeliveryHoursTo',\n",
       "       'SaturdayWorkingHoursFrom', 'SaturdayWorkingHoursTo',\n",
       "       'SaturdayDeliveryHoursFrom', 'SaturdayDeliveryHoursTo',\n",
       "       'ThursdayWorkingHoursFrom', 'ThursdayWorkingHoursTo',\n",
       "       'ThursdayDeliveryHoursFrom', 'ThursdayDeliveryHoursTo',\n",
       "       'WednesdayWorkingHoursFrom', 'WednesdayWorkingHoursTo',\n",
       "       'WednesdayDeliveryHoursFrom', 'WednesdayDeliveryHoursTo'],\n",
       "      dtype='object')"
      ]
     },
     "execution_count": 53,
     "metadata": {},
     "output_type": "execute_result"
    }
   ],
   "source": [
    "df.columns"
   ]
  },
  {
   "cell_type": "markdown",
   "metadata": {},
   "source": [
    "### Collecting final file"
   ]
  },
  {
   "cell_type": "code",
   "execution_count": 54,
   "metadata": {},
   "outputs": [],
   "source": [
    "for i in days:\n",
    "    df[i + ' Working Hours'] = ''\n",
    "    df[i + ' Delivery Hours'] = ''"
   ]
  },
  {
   "cell_type": "code",
   "execution_count": 55,
   "metadata": {},
   "outputs": [],
   "source": [
    "for i in range(len(df)):\n",
    "    for j in days:\n",
    "        df[j + ' Working Hours'][i] = str(df[j + 'WorkingHoursFrom'][i]) + ' - ' + str(df[j + 'WorkingHoursTo'][i])\n",
    "        df[j + ' Delivery Hours'][i] = str(df[j + 'DeliveryHoursFrom'][i]) + ' - ' + str(df[j + 'DeliveryHoursTo'][i])"
   ]
  },
  {
   "cell_type": "code",
   "execution_count": 56,
   "metadata": {},
   "outputs": [],
   "source": [
    "for i in range(len(df)):\n",
    "    for j in days:\n",
    "        if df[j + ' Working Hours'][i] == ' - ':\n",
    "            df[j + ' Working Hours'][i] = np.nan\n",
    "        if df[j + ' Delivery Hours'][i] == ' - ':\n",
    "            df[j + ' Delivery Hours'][i] = np.nan"
   ]
  },
  {
   "cell_type": "code",
   "execution_count": 57,
   "metadata": {},
   "outputs": [],
   "source": [
    "for i in days:\n",
    "    for m in hours:\n",
    "        df = df.drop([i + m], axis = 1)"
   ]
  },
  {
   "cell_type": "code",
   "execution_count": 58,
   "metadata": {
    "scrolled": true
   },
   "outputs": [
    {
     "data": {
      "text/plain": [
       "{4.0, 5.0}"
      ]
     },
     "execution_count": 58,
     "metadata": {},
     "output_type": "execute_result"
    }
   ],
   "source": [
    "set(df['depot'][~pd.isnull(df['depot'])])"
   ]
  },
  {
   "cell_type": "code",
   "execution_count": 59,
   "metadata": {},
   "outputs": [],
   "source": [
    "for i in range(len(df)):\n",
    "    if df['depot'][i] == 4:\n",
    "        df['depot'][i] = 'SouthDepot'\n",
    "    elif df['depot'][i] == 5:\n",
    "        df['depot'][i] = 'NorthDepot'"
   ]
  },
  {
   "cell_type": "code",
   "execution_count": 60,
   "metadata": {},
   "outputs": [],
   "source": [
    "queryForZone = 'SELECT `id`, `name` FROM `czones`'\n",
    "try:\n",
    "    mycursor.execute(queryForZone)\n",
    "except:\n",
    "    print('Execute Failed')\n",
    "zones = mycursor.fetchall()"
   ]
  },
  {
   "cell_type": "code",
   "execution_count": 61,
   "metadata": {},
   "outputs": [],
   "source": [
    "zone = pd.DataFrame(zones, columns = ['id', 'name'])"
   ]
  },
  {
   "cell_type": "code",
   "execution_count": 62,
   "metadata": {},
   "outputs": [
    {
     "data": {
      "text/html": [
       "<div>\n",
       "<style scoped>\n",
       "    .dataframe tbody tr th:only-of-type {\n",
       "        vertical-align: middle;\n",
       "    }\n",
       "\n",
       "    .dataframe tbody tr th {\n",
       "        vertical-align: top;\n",
       "    }\n",
       "\n",
       "    .dataframe thead th {\n",
       "        text-align: right;\n",
       "    }\n",
       "</style>\n",
       "<table border=\"1\" class=\"dataframe\">\n",
       "  <thead>\n",
       "    <tr style=\"text-align: right;\">\n",
       "      <th></th>\n",
       "      <th>id</th>\n",
       "      <th>name</th>\n",
       "    </tr>\n",
       "  </thead>\n",
       "  <tbody>\n",
       "    <tr>\n",
       "      <th>0</th>\n",
       "      <td>1</td>\n",
       "      <td>MARYLAND AREA</td>\n",
       "    </tr>\n",
       "    <tr>\n",
       "      <th>1</th>\n",
       "      <td>2</td>\n",
       "      <td>Bel Air Rd</td>\n",
       "    </tr>\n",
       "    <tr>\n",
       "      <th>2</th>\n",
       "      <td>3</td>\n",
       "      <td>Cecil</td>\n",
       "    </tr>\n",
       "    <tr>\n",
       "      <th>3</th>\n",
       "      <td>4</td>\n",
       "      <td>North Harford</td>\n",
       "    </tr>\n",
       "    <tr>\n",
       "      <th>4</th>\n",
       "      <td>5</td>\n",
       "      <td>Bel Air/Aberdeen/HdG</td>\n",
       "    </tr>\n",
       "    <tr>\n",
       "      <th>5</th>\n",
       "      <td>6</td>\n",
       "      <td>Baltimore City/Rosedale</td>\n",
       "    </tr>\n",
       "    <tr>\n",
       "      <th>6</th>\n",
       "      <td>7</td>\n",
       "      <td>Glen Burnie/Dundalk</td>\n",
       "    </tr>\n",
       "    <tr>\n",
       "      <th>7</th>\n",
       "      <td>8</td>\n",
       "      <td>83/Timonium/Westminster</td>\n",
       "    </tr>\n",
       "    <tr>\n",
       "      <th>8</th>\n",
       "      <td>9</td>\n",
       "      <td>Anne Arundle County</td>\n",
       "    </tr>\n",
       "    <tr>\n",
       "      <th>9</th>\n",
       "      <td>10</td>\n",
       "      <td>Zone 1 (North)</td>\n",
       "    </tr>\n",
       "    <tr>\n",
       "      <th>10</th>\n",
       "      <td>11</td>\n",
       "      <td>Zone 4 (North)</td>\n",
       "    </tr>\n",
       "    <tr>\n",
       "      <th>11</th>\n",
       "      <td>12</td>\n",
       "      <td>Zone 2 (North)</td>\n",
       "    </tr>\n",
       "    <tr>\n",
       "      <th>12</th>\n",
       "      <td>13</td>\n",
       "      <td>Zone 3 (North)</td>\n",
       "    </tr>\n",
       "    <tr>\n",
       "      <th>13</th>\n",
       "      <td>14</td>\n",
       "      <td>Zone 4 (North)</td>\n",
       "    </tr>\n",
       "    <tr>\n",
       "      <th>14</th>\n",
       "      <td>15</td>\n",
       "      <td>Zone 5</td>\n",
       "    </tr>\n",
       "    <tr>\n",
       "      <th>15</th>\n",
       "      <td>16</td>\n",
       "      <td>Zone 6 (North)</td>\n",
       "    </tr>\n",
       "    <tr>\n",
       "      <th>16</th>\n",
       "      <td>17</td>\n",
       "      <td>Zone 7 (North)</td>\n",
       "    </tr>\n",
       "    <tr>\n",
       "      <th>17</th>\n",
       "      <td>18</td>\n",
       "      <td>Zone 8 (North)</td>\n",
       "    </tr>\n",
       "    <tr>\n",
       "      <th>18</th>\n",
       "      <td>19</td>\n",
       "      <td>Zone 9 (North)</td>\n",
       "    </tr>\n",
       "    <tr>\n",
       "      <th>19</th>\n",
       "      <td>20</td>\n",
       "      <td>Zone 10 (North)</td>\n",
       "    </tr>\n",
       "    <tr>\n",
       "      <th>20</th>\n",
       "      <td>21</td>\n",
       "      <td>Zone 11 (North)</td>\n",
       "    </tr>\n",
       "    <tr>\n",
       "      <th>21</th>\n",
       "      <td>22</td>\n",
       "      <td>Zone 12 (North)</td>\n",
       "    </tr>\n",
       "    <tr>\n",
       "      <th>22</th>\n",
       "      <td>23</td>\n",
       "      <td>Zone 13 (North)</td>\n",
       "    </tr>\n",
       "    <tr>\n",
       "      <th>23</th>\n",
       "      <td>24</td>\n",
       "      <td>Zone 14 (North)</td>\n",
       "    </tr>\n",
       "  </tbody>\n",
       "</table>\n",
       "</div>"
      ],
      "text/plain": [
       "    id                     name\n",
       "0    1            MARYLAND AREA\n",
       "1    2               Bel Air Rd\n",
       "2    3                    Cecil\n",
       "3    4            North Harford\n",
       "4    5     Bel Air/Aberdeen/HdG\n",
       "5    6  Baltimore City/Rosedale\n",
       "6    7      Glen Burnie/Dundalk\n",
       "7    8  83/Timonium/Westminster\n",
       "8    9      Anne Arundle County\n",
       "9   10           Zone 1 (North)\n",
       "10  11           Zone 4 (North)\n",
       "11  12           Zone 2 (North)\n",
       "12  13           Zone 3 (North)\n",
       "13  14           Zone 4 (North)\n",
       "14  15                   Zone 5\n",
       "15  16           Zone 6 (North)\n",
       "16  17           Zone 7 (North)\n",
       "17  18           Zone 8 (North)\n",
       "18  19           Zone 9 (North)\n",
       "19  20          Zone 10 (North)\n",
       "20  21          Zone 11 (North)\n",
       "21  22          Zone 12 (North)\n",
       "22  23          Zone 13 (North)\n",
       "23  24          Zone 14 (North)"
      ]
     },
     "execution_count": 62,
     "metadata": {},
     "output_type": "execute_result"
    }
   ],
   "source": [
    "zone"
   ]
  },
  {
   "cell_type": "code",
   "execution_count": 63,
   "metadata": {},
   "outputs": [],
   "source": [
    "for i in range(len(df)):\n",
    "    if not np.isnan(df['zone'][i]):\n",
    "        b = df['zone'][i]\n",
    "        k = zone[zone['id'] == b].index[0]\n",
    "        df['zone'][i] = zone[zone['id'] == b]['name'][k]"
   ]
  },
  {
   "cell_type": "code",
   "execution_count": 64,
   "metadata": {},
   "outputs": [
    {
     "data": {
      "text/plain": [
       "array([nan,  0., 34.])"
      ]
     },
     "execution_count": 64,
     "metadata": {},
     "output_type": "execute_result"
    }
   ],
   "source": [
    "data['driverId'].unique()"
   ]
  },
  {
   "cell_type": "code",
   "execution_count": 65,
   "metadata": {},
   "outputs": [],
   "source": [
    "for i in range(len(df)):\n",
    "    if df['driver'][i] == 34:\n",
    "        df['driver'][i] = 'Karl Diamond'\n",
    "    elif df['driver'][i] == 0:\n",
    "        df['driver'][i] = np.nan"
   ]
  },
  {
   "cell_type": "code",
   "execution_count": 1,
   "metadata": {},
   "outputs": [],
   "source": [
    "# df"
   ]
  },
  {
   "cell_type": "code",
   "execution_count": 69,
   "metadata": {},
   "outputs": [],
   "source": [
    "df = df[['id', 'name', 'companyLegalName', 'email', 'phone1', 'phone2',\n",
    "       'contactPerson', 'rating', 'notes', 'mustbefirst', 'driver', 'zone',\n",
    "       'depot', 'lat', 'lon', 'zip', 'city', 'state', 'country',\n",
    "       'streetAddress', 'Monday Working Hours', 'Monday Delivery Hours', 'Tuesday Working Hours',\n",
    "       'Tuesday Delivery Hours', 'Wednesday Working Hours',\n",
    "       'Wednesday Delivery Hours', 'Thursday Working Hours',\n",
    "       'Thursday Delivery Hours', 'Friday Working Hours', 'Friday Delivery Hours', 'Saturday Working Hours',\n",
    "       'Saturday Delivery Hours', 'Sunday Working Hours',\n",
    "       'Sunday Delivery Hours']]"
   ]
  },
  {
   "cell_type": "code",
   "execution_count": 70,
   "metadata": {},
   "outputs": [],
   "source": [
    "df.to_excel(\"C:\\\\Users\\\\Dell\\\\Desktop\\\\CustomersNew.xlsx\")"
   ]
  },
  {
   "cell_type": "code",
   "execution_count": null,
   "metadata": {},
   "outputs": [],
   "source": []
  }
 ],
 "metadata": {
  "kernelspec": {
   "display_name": "Python 3 (ipykernel)",
   "language": "python",
   "name": "python3"
  },
  "language_info": {
   "codemirror_mode": {
    "name": "ipython",
    "version": 3
   },
   "file_extension": ".py",
   "mimetype": "text/x-python",
   "name": "python",
   "nbconvert_exporter": "python",
   "pygments_lexer": "ipython3",
   "version": "3.7.11"
  }
 },
 "nbformat": 4,
 "nbformat_minor": 2
}
