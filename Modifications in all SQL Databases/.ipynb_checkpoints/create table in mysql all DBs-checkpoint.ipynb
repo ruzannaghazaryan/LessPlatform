{
 "cells": [
  {
   "cell_type": "code",
   "execution_count": 1,
   "metadata": {},
   "outputs": [],
   "source": [
    "import numpy as np\n",
    "import pandas as pd\n",
    "import mysql.connector"
   ]
  },
  {
   "cell_type": "code",
   "execution_count": 2,
   "metadata": {},
   "outputs": [],
   "source": [
    "mydb  = mysql.connector.connect(\n",
    "                                host = '144.217.38.21',\n",
    "                                user = 'bf4u',\n",
    "                                password = 'Zn6+YsUU',\n",
    "                                #database = 'legacyFood'\n",
    "                                )\n",
    "mycursor = mydb.cursor()"
   ]
  },
  {
   "cell_type": "code",
   "execution_count": 3,
   "metadata": {},
   "outputs": [],
   "source": [
    "query = \"SHOW DATABASES\""
   ]
  },
  {
   "cell_type": "code",
   "execution_count": 4,
   "metadata": {},
   "outputs": [],
   "source": [
    "try:\n",
    "    mycursor.execute(query)\n",
    "except:\n",
    "    print('Execute Fail')"
   ]
  },
  {
   "cell_type": "code",
   "execution_count": 5,
   "metadata": {},
   "outputs": [],
   "source": [
    "results = mycursor.fetchall()"
   ]
  },
  {
   "cell_type": "code",
   "execution_count": 6,
   "metadata": {},
   "outputs": [],
   "source": [
    "dbs = [i[0] for i in results]"
   ]
  },
  {
   "cell_type": "code",
   "execution_count": 7,
   "metadata": {},
   "outputs": [],
   "source": [
    "elements_to_remove = ['less-platform', 'mysql', 'ordersRuz', 'performance_schema', 'sys', 'upload', 'information_schema']"
   ]
  },
  {
   "cell_type": "code",
   "execution_count": 8,
   "metadata": {},
   "outputs": [],
   "source": [
    "db = [element for element in dbs if element not in elements_to_remove]"
   ]
  },
  {
   "cell_type": "code",
   "execution_count": 9,
   "metadata": {
    "scrolled": true
   },
   "outputs": [
    {
     "data": {
      "text/plain": [
       "['3pl',\n",
       " 'Arshak',\n",
       " 'Test99',\n",
       " 'algo',\n",
       " 'bfdb',\n",
       " 'caffeine',\n",
       " 'cityLine',\n",
       " 'cityLine2',\n",
       " 'cityLine3',\n",
       " 'davittest',\n",
       " 'dbapi',\n",
       " 'demo1',\n",
       " 'demo2',\n",
       " 'demo3',\n",
       " 'demo4',\n",
       " 'demo5',\n",
       " 'dist',\n",
       " 'fb',\n",
       " 'flatbed',\n",
       " 'flatbed2',\n",
       " 'fo',\n",
       " 'freshone',\n",
       " 'hilti',\n",
       " 'hilti2',\n",
       " 'lc',\n",
       " 'legacyFood',\n",
       " 'legacyFood2',\n",
       " 'less_db',\n",
       " 'less_platform_clone',\n",
       " 'lessplatformclone',\n",
       " 'limush',\n",
       " 'lm',\n",
       " 'merfish',\n",
       " 'merfish1',\n",
       " 'merfish2',\n",
       " 'mf',\n",
       " 'monette',\n",
       " 'mt',\n",
       " 'mydb',\n",
       " 'schedule',\n",
       " 'sp',\n",
       " 'sprouts',\n",
       " 'tbfdb',\n",
       " 'test',\n",
       " 'test2',\n",
       " 'tuniqlo',\n",
       " 'ubm',\n",
       " 'uniqlo',\n",
       " 'uniqlo_backup',\n",
       " 'video',\n",
       " 'vt',\n",
       " 'working',\n",
       " 'yer',\n",
       " 'yerevan',\n",
       " 'yohe']"
      ]
     },
     "execution_count": 9,
     "metadata": {},
     "output_type": "execute_result"
    }
   ],
   "source": [
    "db"
   ]
  },
  {
   "cell_type": "code",
   "execution_count": 10,
   "metadata": {},
   "outputs": [
    {
     "name": "stdout",
     "output_type": "stream",
     "text": [
      "notification\n"
     ]
    }
   ],
   "source": [
    "newTableName = input()"
   ]
  },
  {
   "cell_type": "code",
   "execution_count": 11,
   "metadata": {},
   "outputs": [],
   "source": [
    "# for i in db:\n",
    "#     queryCreate = \"CREATE TABLE `\" + i + '`.`' + newTableName + \"\"\"` (\n",
    "#                   `id` int NOT NULL AUTO_INCREMENT,\n",
    "#                   `userId` int NULL,\n",
    "#                   `seen` int NULL,\n",
    "#                   `type` int NULL,\n",
    "#                   `title` varchar(255) NULL,\n",
    "#                   `content` varchar(255) NULL,\n",
    "#                   `seenAt` datetime NULL,\n",
    "#                   `createdAt` datetime NOT NULL,\n",
    "#                   `updatedAt` datetime NOT NULL,\n",
    "#                   PRIMARY KEY (`id`));\"\"\"\n",
    "#     try:\n",
    "#         mycursor.execute(queryCreate)\n",
    "#     except:\n",
    "#         print('Execute Failed in ' + i)"
   ]
  },
  {
   "cell_type": "markdown",
   "metadata": {},
   "source": [
    "### Check Time"
   ]
  },
  {
   "cell_type": "code",
   "execution_count": 12,
   "metadata": {},
   "outputs": [],
   "source": [
    "def checkFunction():\n",
    "    checkList = []\n",
    "    for i in db:\n",
    "        try:\n",
    "            mycursor.execute('USE ' + i + ';')\n",
    "            mycursor.execute('SHOW TABLES;')\n",
    "            result = mycursor.fetchall()\n",
    "            resultList = [i[0] for i in result]\n",
    "            if newTableName in resultList:\n",
    "                checkList.append(i + ' True')\n",
    "            else:\n",
    "                checkList.append(i + ' False')\n",
    "        except:\n",
    "            checkList.append(\"can't execute query of \" + i)\n",
    "    return checkList"
   ]
  },
  {
   "cell_type": "code",
   "execution_count": 13,
   "metadata": {},
   "outputs": [],
   "source": [
    "checked = checkFunction()"
   ]
  },
  {
   "cell_type": "code",
   "execution_count": 14,
   "metadata": {},
   "outputs": [
    {
     "data": {
      "text/plain": [
       "['3pl True',\n",
       " 'Arshak True',\n",
       " 'Test99 True',\n",
       " 'algo True',\n",
       " 'bfdb True',\n",
       " 'caffeine True',\n",
       " 'cityLine True',\n",
       " 'cityLine2 True',\n",
       " 'cityLine3 True',\n",
       " 'davittest True',\n",
       " 'dbapi True',\n",
       " 'demo1 True',\n",
       " 'demo2 True',\n",
       " 'demo3 True',\n",
       " 'demo4 True',\n",
       " 'demo5 True',\n",
       " 'dist True',\n",
       " 'fb True',\n",
       " 'flatbed True',\n",
       " 'flatbed2 True',\n",
       " 'fo True',\n",
       " 'freshone True',\n",
       " 'hilti True',\n",
       " 'hilti2 True',\n",
       " 'lc True',\n",
       " 'legacyFood True',\n",
       " 'legacyFood2 True',\n",
       " 'less_db True',\n",
       " 'less_platform_clone False',\n",
       " 'lessplatformclone False',\n",
       " 'limush True',\n",
       " 'lm True',\n",
       " 'merfish True',\n",
       " 'merfish1 True',\n",
       " 'merfish2 True',\n",
       " 'mf True',\n",
       " 'monette True',\n",
       " 'mt False',\n",
       " 'mydb True',\n",
       " 'schedule True',\n",
       " 'sp True',\n",
       " 'sprouts True',\n",
       " 'tbfdb True',\n",
       " 'test True',\n",
       " 'test2 True',\n",
       " 'tuniqlo True',\n",
       " 'ubm True',\n",
       " 'uniqlo True',\n",
       " 'uniqlo_backup True',\n",
       " 'video True',\n",
       " 'vt True',\n",
       " 'working True',\n",
       " 'yer True',\n",
       " 'yerevan True',\n",
       " 'yohe True']"
      ]
     },
     "execution_count": 14,
     "metadata": {},
     "output_type": "execute_result"
    }
   ],
   "source": [
    "checked"
   ]
  },
  {
   "cell_type": "code",
   "execution_count": 15,
   "metadata": {
    "scrolled": true
   },
   "outputs": [
    {
     "data": {
      "text/plain": [
       "True"
      ]
     },
     "execution_count": 15,
     "metadata": {},
     "output_type": "execute_result"
    }
   ],
   "source": [
    "len(db) == len(checked)"
   ]
  },
  {
   "cell_type": "code",
   "execution_count": 17,
   "metadata": {},
   "outputs": [
    {
     "name": "stdout",
     "output_type": "stream",
     "text": [
      "less_platform_clone False\n",
      "lessplatformclone False\n",
      "mt False\n"
     ]
    }
   ],
   "source": [
    "for i in checked:\n",
    "    if 'False' in i:\n",
    "        print(i)"
   ]
  },
  {
   "cell_type": "code",
   "execution_count": null,
   "metadata": {},
   "outputs": [],
   "source": []
  }
 ],
 "metadata": {
  "kernelspec": {
   "display_name": "Python 3",
   "language": "python",
   "name": "python3"
  },
  "language_info": {
   "codemirror_mode": {
    "name": "ipython",
    "version": 3
   },
   "file_extension": ".py",
   "mimetype": "text/x-python",
   "name": "python",
   "nbconvert_exporter": "python",
   "pygments_lexer": "ipython3",
   "version": "3.7.3"
  }
 },
 "nbformat": 4,
 "nbformat_minor": 2
}
