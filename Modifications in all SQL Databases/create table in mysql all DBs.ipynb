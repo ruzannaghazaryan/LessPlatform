{
 "cells": [
  {
   "cell_type": "code",
   "execution_count": 49,
   "metadata": {},
   "outputs": [],
   "source": [
    "import numpy as np\n",
    "import pandas as pd\n",
    "import mysql.connector"
   ]
  },
  {
   "cell_type": "code",
   "execution_count": 50,
   "metadata": {},
   "outputs": [],
   "source": [
    "mydb  = mysql.connector.connect(\n",
    "                                host = '',\n",
    "                                user = '',\n",
    "                                password = '',\n",
    "                                # database = ''\n",
    "                                )\n",
    "mycursor = mydb.cursor()"
   ]
  },
  {
   "cell_type": "code",
   "execution_count": 51,
   "metadata": {},
   "outputs": [],
   "source": [
    "query = \"SHOW DATABASES\""
   ]
  },
  {
   "cell_type": "code",
   "execution_count": 52,
   "metadata": {},
   "outputs": [],
   "source": [
    "try:\n",
    "    mycursor.execute(query)\n",
    "except:\n",
    "    print('Execution Failed')"
   ]
  },
  {
   "cell_type": "code",
   "execution_count": 53,
   "metadata": {},
   "outputs": [],
   "source": [
    "results = mycursor.fetchall()"
   ]
  },
  {
   "cell_type": "code",
   "execution_count": 54,
   "metadata": {},
   "outputs": [],
   "source": [
    "dbs = [i[0] for i in results]"
   ]
  },
  {
   "cell_type": "code",
   "execution_count": 55,
   "metadata": {},
   "outputs": [],
   "source": [
    "elements_to_remove = ['less-platform', 'mysql', 'ordersRuz', 'performance_schema', 'sys', 'upload', 'information_schema', 'less_platform_clone', 'lessplatformclone']"
   ]
  },
  {
   "cell_type": "code",
   "execution_count": 56,
   "metadata": {},
   "outputs": [],
   "source": [
    "db = [element for element in dbs if element not in elements_to_remove]"
   ]
  },
  {
   "cell_type": "code",
   "execution_count": 2,
   "metadata": {
    "scrolled": true
   },
   "outputs": [],
   "source": [
    "# db"
   ]
  },
  {
   "cell_type": "code",
   "execution_count": 58,
   "metadata": {},
   "outputs": [
    {
     "name": "stdout",
     "output_type": "stream",
     "text": [
      "globalSettings\n"
     ]
    }
   ],
   "source": [
    "newTableName = input()"
   ]
  },
  {
   "cell_type": "code",
   "execution_count": 59,
   "metadata": {},
   "outputs": [
    {
     "name": "stdout",
     "output_type": "stream",
     "text": [
      "Execute Failed in 3pl\n",
      "Execute Failed in Arshak\n",
      "Execute Failed in algotest\n",
      "Execute Failed in bfdb\n",
      "Execute Failed in caravan\n",
      "Execute Failed in cityLine\n",
      "Execute Failed in cl\n",
      "Execute Failed in davittest\n",
      "Execute Failed in kti\n",
      "Execute Failed in testingBase\n"
     ]
    }
   ],
   "source": [
    "for i in db:\n",
    "    queryCreate = \"CREATE TABLE `\" + i + '`.`' + newTableName + \"\"\"` (\n",
    "                      `id` int NOT NULL AUTO_INCREMENT,\n",
    "                      `exchangeRate` varchar(255) NULL,\n",
    "                      `defaultCurrency` varchar(255) NULL,\n",
    "                      `Currency` json NULL,\n",
    "                      `defaultServiceTime` double NULL,\n",
    "                      `apiConfigs` json NULL,\n",
    "                      `pieceTime` double NULL,\n",
    "                      `fileHeaders` json NULL,\n",
    "                      `timezone` varchar(255) NULL,\n",
    "                      `metricsSystem` int NULL,\n",
    "                      `createdAt` datetime NULL,\n",
    "                      `proofDefault` json NULL,\n",
    "                      `updatedAt` datetime NULL,\n",
    "                      `IterationMultiplier` double NULL,\n",
    "                      `durationMultiplier` double NULL,\n",
    "                      PRIMARY KEY (`id`)\n",
    "                    );\"\"\"\n",
    "    try:\n",
    "        mycursor.execute(queryCreate)\n",
    "    except:\n",
    "        print('Execute Failed in ' + i)"
   ]
  },
  {
   "cell_type": "markdown",
   "metadata": {},
   "source": [
    "### Check Time"
   ]
  },
  {
   "cell_type": "code",
   "execution_count": 12,
   "metadata": {},
   "outputs": [],
   "source": [
    "def checkFunction():\n",
    "    checkList = []\n",
    "    for i in db:\n",
    "        try:\n",
    "            mycursor.execute('USE ' + i + ';')\n",
    "            mycursor.execute('SHOW TABLES;')\n",
    "            result = mycursor.fetchall()\n",
    "            resultList = [i[0] for i in result]\n",
    "            if newTableName in resultList:\n",
    "                checkList.append(i + ' True')\n",
    "            else:\n",
    "                checkList.append(i + ' False')\n",
    "        except:\n",
    "            checkList.append(\"can't execute query of \" + i)\n",
    "    return checkList"
   ]
  },
  {
   "cell_type": "code",
   "execution_count": null,
   "metadata": {},
   "outputs": [],
   "source": [
    "checked = checkFunction()"
   ]
  },
  {
   "cell_type": "code",
   "execution_count": 3,
   "metadata": {},
   "outputs": [],
   "source": [
    "# checked"
   ]
  },
  {
   "cell_type": "code",
   "execution_count": 15,
   "metadata": {
    "scrolled": true
   },
   "outputs": [
    {
     "data": {
      "text/plain": [
       "True"
      ]
     },
     "execution_count": 15,
     "metadata": {},
     "output_type": "execute_result"
    }
   ],
   "source": [
    "len(db) == len(checked)"
   ]
  },
  {
   "cell_type": "code",
   "execution_count": 18,
   "metadata": {},
   "outputs": [
    {
     "name": "stdout",
     "output_type": "stream",
     "text": [
      "less_platform_clone False\n",
      "lessplatformclone False\n",
      "mt False\n"
     ]
    }
   ],
   "source": [
    "for i in checked:\n",
    "    if ('False'or \"can't execute query of\") in i:\n",
    "        print(i)"
   ]
  },
  {
   "cell_type": "code",
   "execution_count": null,
   "metadata": {},
   "outputs": [],
   "source": []
  }
 ],
 "metadata": {
  "kernelspec": {
   "display_name": "Python 3 (ipykernel)",
   "language": "python",
   "name": "python3"
  },
  "language_info": {
   "codemirror_mode": {
    "name": "ipython",
    "version": 3
   },
   "file_extension": ".py",
   "mimetype": "text/x-python",
   "name": "python",
   "nbconvert_exporter": "python",
   "pygments_lexer": "ipython3",
   "version": "3.7.11"
  }
 },
 "nbformat": 4,
 "nbformat_minor": 2
}
